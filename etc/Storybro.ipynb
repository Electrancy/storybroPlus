{
  "nbformat": 4,
  "nbformat_minor": 0,
  "metadata": {
    "colab": {
      "name": "Cool Storybro Notebook.ipynb",
      "provenance": [],
      "include_colab_link": true
    },
    "kernelspec": {
      "name": "python3",
      "display_name": "Python 3"
    }
  },
  "cells": [
    {
      "cell_type": "markdown",
      "metadata": {
        "id": "view-in-github",
        "colab_type": "text"
      },
      "source": [
        "<a href=\"https://colab.research.google.com/gist/dustinlacewell/c3246e40f71f0e4db581af30c99926e6/cool-storybro-notebook.ipynb\" target=\"_parent\"><img src=\"https://colab.research.google.com/assets/colab-badge.svg\" alt=\"Open In Colab\"/></a>"
      ]
    },
    {
      "cell_type": "markdown",
      "metadata": {
        "id": "ermWruAn9Z1U",
        "colab_type": "text"
      },
      "source": [
        "# StoryBro\n",
        "\n",
        "To run:\n",
        "\n",
        " - Press Ctrl+F9 \n",
        "\n",
        " The game is in the bottom cell\n",
        "\n",
        "\n",
        "TODO: Make it look nice"
      ]
    },
    {
      "cell_type": "code",
      "metadata": {
        "id": "Ao8EnBoL6Cjn",
        "colab_type": "code",
        "colab": {}
      },
      "source": [
        "!pip install --upgrade pip jsonschema "
      ],
      "execution_count": 0,
      "outputs": []
    },
    {
      "cell_type": "code",
      "metadata": {
        "id": "L3lOUzqV6Eif",
        "colab_type": "code",
        "colab": {}
      },
      "source": [
        "!apt install aria2"
      ],
      "execution_count": 0,
      "outputs": []
    },
    {
      "cell_type": "code",
      "metadata": {
        "id": "orNfXiNH4G0e",
        "colab_type": "code",
        "colab": {}
      },
      "source": [
        "!pip install git+https://github.com/storybro/storybro.git@dd871ea6bbc7c8486e82977da6cb157e2f010905"
      ],
      "execution_count": 0,
      "outputs": []
    },
    {
      "cell_type": "code",
      "metadata": {
        "id": "hGN6Lw-P8kOn",
        "colab_type": "code",
        "colab": {}
      },
      "source": [
        "!storybro models get model_v5"
      ],
      "execution_count": 0,
      "outputs": []
    },
    {
      "cell_type": "code",
      "metadata": {
        "id": "9GyIGND99IOp",
        "colab_type": "code",
        "colab": {},
        "cellView": "form"
      },
      "source": [
        "#@title Run Storybro Command (eg: storybro play new-story)\n",
        "import sys\n",
        "\n",
        "command = \"storybro play new-story\" #@param {type:\"string\"}\n",
        "\n",
        "sys.argv = [\"storybro\", \"play\", \"story\"]\n",
        "\n",
        "from storybro import main\n",
        "\n",
        "main()"
      ],
      "execution_count": 0,
      "outputs": []
    }
  ]
}
